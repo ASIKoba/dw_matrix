{
  "nbformat": 4,
  "nbformat_minor": 0,
  "metadata": {
    "colab": {
      "name": "Day5.ipynb",
      "provenance": [],
      "collapsed_sections": [],
      "mount_file_id": "1zsMDMqipzGm5cfCdtjnRD4_qgsjJ55LK",
      "authorship_tag": "ABX9TyPcNchUFEl+mFGzAt+L8nIx",
      "include_colab_link": true
    },
    "kernelspec": {
      "name": "python3",
      "display_name": "Python 3"
    },
    "widgets": {
      "application/vnd.jupyter.widget-state+json": {
        "43c826401e7d41bb8ed8d87c2b31c70a": {
          "model_module": "@jupyter-widgets/controls",
          "model_name": "HBoxModel",
          "state": {
            "_view_name": "HBoxView",
            "_dom_classes": [],
            "_model_name": "HBoxModel",
            "_view_module": "@jupyter-widgets/controls",
            "_model_module_version": "1.5.0",
            "_view_count": null,
            "_view_module_version": "1.5.0",
            "box_style": "",
            "layout": "IPY_MODEL_81dcd6777c3b4b38823fcbcee0661f1a",
            "_model_module": "@jupyter-widgets/controls",
            "children": [
              "IPY_MODEL_251b487ad3464a94a121744cad2ba5e8",
              "IPY_MODEL_75c7413b54fc427b82121ea7a1539778"
            ]
          }
        },
        "81dcd6777c3b4b38823fcbcee0661f1a": {
          "model_module": "@jupyter-widgets/base",
          "model_name": "LayoutModel",
          "state": {
            "_view_name": "LayoutView",
            "grid_template_rows": null,
            "right": null,
            "justify_content": null,
            "_view_module": "@jupyter-widgets/base",
            "overflow": null,
            "_model_module_version": "1.2.0",
            "_view_count": null,
            "flex_flow": null,
            "width": null,
            "min_width": null,
            "border": null,
            "align_items": null,
            "bottom": null,
            "_model_module": "@jupyter-widgets/base",
            "top": null,
            "grid_column": null,
            "overflow_y": null,
            "overflow_x": null,
            "grid_auto_flow": null,
            "grid_area": null,
            "grid_template_columns": null,
            "flex": null,
            "_model_name": "LayoutModel",
            "justify_items": null,
            "grid_row": null,
            "max_height": null,
            "align_content": null,
            "visibility": null,
            "align_self": null,
            "height": null,
            "min_height": null,
            "padding": null,
            "grid_auto_rows": null,
            "grid_gap": null,
            "max_width": null,
            "order": null,
            "_view_module_version": "1.2.0",
            "grid_template_areas": null,
            "object_position": null,
            "object_fit": null,
            "grid_auto_columns": null,
            "margin": null,
            "display": null,
            "left": null
          }
        },
        "251b487ad3464a94a121744cad2ba5e8": {
          "model_module": "@jupyter-widgets/controls",
          "model_name": "IntProgressModel",
          "state": {
            "_view_name": "ProgressView",
            "style": "IPY_MODEL_d402467cbcb840f1abcb09de3a63c9f2",
            "_dom_classes": [],
            "description": "",
            "_model_name": "IntProgressModel",
            "bar_style": "success",
            "max": 476,
            "_view_module": "@jupyter-widgets/controls",
            "_model_module_version": "1.5.0",
            "value": 476,
            "_view_count": null,
            "_view_module_version": "1.5.0",
            "orientation": "horizontal",
            "min": 0,
            "description_tooltip": null,
            "_model_module": "@jupyter-widgets/controls",
            "layout": "IPY_MODEL_705b9d5fcdf448dcb2f9515c57c6019c"
          }
        },
        "75c7413b54fc427b82121ea7a1539778": {
          "model_module": "@jupyter-widgets/controls",
          "model_name": "HTMLModel",
          "state": {
            "_view_name": "HTMLView",
            "style": "IPY_MODEL_6d32234fb99e44de9d82603f78784c1a",
            "_dom_classes": [],
            "description": "",
            "_model_name": "HTMLModel",
            "placeholder": "​",
            "_view_module": "@jupyter-widgets/controls",
            "_model_module_version": "1.5.0",
            "value": "100% 476/476 [00:04&lt;00:00, 118.55it/s]",
            "_view_count": null,
            "_view_module_version": "1.5.0",
            "description_tooltip": null,
            "_model_module": "@jupyter-widgets/controls",
            "layout": "IPY_MODEL_8c4f1d0611114a0cb9c8dcd317f3e66b"
          }
        },
        "d402467cbcb840f1abcb09de3a63c9f2": {
          "model_module": "@jupyter-widgets/controls",
          "model_name": "ProgressStyleModel",
          "state": {
            "_view_name": "StyleView",
            "_model_name": "ProgressStyleModel",
            "description_width": "",
            "_view_module": "@jupyter-widgets/base",
            "_model_module_version": "1.5.0",
            "_view_count": null,
            "_view_module_version": "1.2.0",
            "bar_color": null,
            "_model_module": "@jupyter-widgets/controls"
          }
        },
        "705b9d5fcdf448dcb2f9515c57c6019c": {
          "model_module": "@jupyter-widgets/base",
          "model_name": "LayoutModel",
          "state": {
            "_view_name": "LayoutView",
            "grid_template_rows": null,
            "right": null,
            "justify_content": null,
            "_view_module": "@jupyter-widgets/base",
            "overflow": null,
            "_model_module_version": "1.2.0",
            "_view_count": null,
            "flex_flow": null,
            "width": null,
            "min_width": null,
            "border": null,
            "align_items": null,
            "bottom": null,
            "_model_module": "@jupyter-widgets/base",
            "top": null,
            "grid_column": null,
            "overflow_y": null,
            "overflow_x": null,
            "grid_auto_flow": null,
            "grid_area": null,
            "grid_template_columns": null,
            "flex": null,
            "_model_name": "LayoutModel",
            "justify_items": null,
            "grid_row": null,
            "max_height": null,
            "align_content": null,
            "visibility": null,
            "align_self": null,
            "height": null,
            "min_height": null,
            "padding": null,
            "grid_auto_rows": null,
            "grid_gap": null,
            "max_width": null,
            "order": null,
            "_view_module_version": "1.2.0",
            "grid_template_areas": null,
            "object_position": null,
            "object_fit": null,
            "grid_auto_columns": null,
            "margin": null,
            "display": null,
            "left": null
          }
        },
        "6d32234fb99e44de9d82603f78784c1a": {
          "model_module": "@jupyter-widgets/controls",
          "model_name": "DescriptionStyleModel",
          "state": {
            "_view_name": "StyleView",
            "_model_name": "DescriptionStyleModel",
            "description_width": "",
            "_view_module": "@jupyter-widgets/base",
            "_model_module_version": "1.5.0",
            "_view_count": null,
            "_view_module_version": "1.2.0",
            "_model_module": "@jupyter-widgets/controls"
          }
        },
        "8c4f1d0611114a0cb9c8dcd317f3e66b": {
          "model_module": "@jupyter-widgets/base",
          "model_name": "LayoutModel",
          "state": {
            "_view_name": "LayoutView",
            "grid_template_rows": null,
            "right": null,
            "justify_content": null,
            "_view_module": "@jupyter-widgets/base",
            "overflow": null,
            "_model_module_version": "1.2.0",
            "_view_count": null,
            "flex_flow": null,
            "width": null,
            "min_width": null,
            "border": null,
            "align_items": null,
            "bottom": null,
            "_model_module": "@jupyter-widgets/base",
            "top": null,
            "grid_column": null,
            "overflow_y": null,
            "overflow_x": null,
            "grid_auto_flow": null,
            "grid_area": null,
            "grid_template_columns": null,
            "flex": null,
            "_model_name": "LayoutModel",
            "justify_items": null,
            "grid_row": null,
            "max_height": null,
            "align_content": null,
            "visibility": null,
            "align_self": null,
            "height": null,
            "min_height": null,
            "padding": null,
            "grid_auto_rows": null,
            "grid_gap": null,
            "max_width": null,
            "order": null,
            "_view_module_version": "1.2.0",
            "grid_template_areas": null,
            "object_position": null,
            "object_fit": null,
            "grid_auto_columns": null,
            "margin": null,
            "display": null,
            "left": null
          }
        }
      }
    }
  },
  "cells": [
    {
      "cell_type": "markdown",
      "metadata": {
        "id": "view-in-github",
        "colab_type": "text"
      },
      "source": [
        "<a href=\"https://colab.research.google.com/github/ASIKoba/dw_matrix/blob/master/Day5.ipynb\" target=\"_parent\"><img src=\"https://colab.research.google.com/assets/colab-badge.svg\" alt=\"Open In Colab\"/></a>"
      ]
    },
    {
      "cell_type": "code",
      "metadata": {
        "id": "oT7zuIZEDh0l",
        "colab_type": "code",
        "colab": {
          "base_uri": "https://localhost:8080/",
          "height": 292
        },
        "outputId": "f223b8dc-16fb-42b6-9d29-2f95efad4a00"
      },
      "source": [
        "!pip install eli5"
      ],
      "execution_count": 2,
      "outputs": [
        {
          "output_type": "stream",
          "text": [
            "Collecting eli5\n",
            "\u001b[?25l  Downloading https://files.pythonhosted.org/packages/97/2f/c85c7d8f8548e460829971785347e14e45fa5c6617da374711dec8cb38cc/eli5-0.10.1-py2.py3-none-any.whl (105kB)\n",
            "\u001b[K     |████████████████████████████████| 112kB 2.8MB/s \n",
            "\u001b[?25hRequirement already satisfied: jinja2 in /usr/local/lib/python3.6/dist-packages (from eli5) (2.11.1)\n",
            "Requirement already satisfied: scikit-learn>=0.18 in /usr/local/lib/python3.6/dist-packages (from eli5) (0.22.1)\n",
            "Requirement already satisfied: numpy>=1.9.0 in /usr/local/lib/python3.6/dist-packages (from eli5) (1.17.5)\n",
            "Requirement already satisfied: scipy in /usr/local/lib/python3.6/dist-packages (from eli5) (1.4.1)\n",
            "Requirement already satisfied: tabulate>=0.7.7 in /usr/local/lib/python3.6/dist-packages (from eli5) (0.8.6)\n",
            "Requirement already satisfied: six in /usr/local/lib/python3.6/dist-packages (from eli5) (1.12.0)\n",
            "Requirement already satisfied: attrs>16.0.0 in /usr/local/lib/python3.6/dist-packages (from eli5) (19.3.0)\n",
            "Requirement already satisfied: graphviz in /usr/local/lib/python3.6/dist-packages (from eli5) (0.10.1)\n",
            "Requirement already satisfied: MarkupSafe>=0.23 in /usr/local/lib/python3.6/dist-packages (from jinja2->eli5) (1.1.1)\n",
            "Requirement already satisfied: joblib>=0.11 in /usr/local/lib/python3.6/dist-packages (from scikit-learn>=0.18->eli5) (0.14.1)\n",
            "Installing collected packages: eli5\n",
            "Successfully installed eli5-0.10.1\n"
          ],
          "name": "stdout"
        }
      ]
    },
    {
      "cell_type": "code",
      "metadata": {
        "id": "NLPZz86QDoXj",
        "colab_type": "code",
        "colab": {
          "base_uri": "https://localhost:8080/",
          "height": 185
        },
        "outputId": "c3984c38-8b51-4af2-8df2-f8fa3ef0f338"
      },
      "source": [
        "import pandas as pd\n",
        "import numpy as np\n",
        "from sklearn.tree import DecisionTreeRegressor\n",
        "from sklearn.ensemble import RandomForestRegressor\n",
        "\n",
        "from sklearn.metrics import mean_absolute_error\n",
        "from sklearn.model_selection import cross_val_score\n",
        "\n",
        "import eli5\n",
        "from eli5.sklearn import PermutationImportance\n",
        "\n",
        "from ast import literal_eval\n",
        "from tqdm import tqdm_notebook\n"
      ],
      "execution_count": 3,
      "outputs": [
        {
          "output_type": "stream",
          "text": [
            "/usr/local/lib/python3.6/dist-packages/sklearn/utils/deprecation.py:144: FutureWarning: The sklearn.metrics.scorer module is  deprecated in version 0.22 and will be removed in version 0.24. The corresponding classes / functions should instead be imported from sklearn.metrics. Anything that cannot be imported from sklearn.metrics is now part of the private API.\n",
            "  warnings.warn(message, FutureWarning)\n",
            "/usr/local/lib/python3.6/dist-packages/sklearn/utils/deprecation.py:144: FutureWarning: The sklearn.feature_selection.base module is  deprecated in version 0.22 and will be removed in version 0.24. The corresponding classes / functions should instead be imported from sklearn.feature_selection. Anything that cannot be imported from sklearn.feature_selection is now part of the private API.\n",
            "  warnings.warn(message, FutureWarning)\n",
            "Using TensorFlow backend.\n"
          ],
          "name": "stderr"
        },
        {
          "output_type": "display_data",
          "data": {
            "text/html": [
              "<p style=\"color: red;\">\n",
              "The default version of TensorFlow in Colab will soon switch to TensorFlow 2.x.<br>\n",
              "We recommend you <a href=\"https://www.tensorflow.org/guide/migrate\" target=\"_blank\">upgrade</a> now \n",
              "or ensure your notebook will continue to use TensorFlow 1.x via the <code>%tensorflow_version 1.x</code> magic:\n",
              "<a href=\"https://colab.research.google.com/notebooks/tensorflow_version.ipynb\" target=\"_blank\">more info</a>.</p>\n"
            ],
            "text/plain": [
              "<IPython.core.display.HTML object>"
            ]
          },
          "metadata": {
            "tags": []
          }
        }
      ]
    },
    {
      "cell_type": "code",
      "metadata": {
        "id": "iLX6fpxWElYM",
        "colab_type": "code",
        "colab": {
          "base_uri": "https://localhost:8080/",
          "height": 34
        },
        "outputId": "3b78e9fd-7a43-4440-a68d-0e14a4e3a017"
      },
      "source": [
        "cd \"/content/drive/My Drive/Colab Notebooks/dw_matrix\""
      ],
      "execution_count": 4,
      "outputs": [
        {
          "output_type": "stream",
          "text": [
            "/content/drive/My Drive/Colab Notebooks/dw_matrix\n"
          ],
          "name": "stdout"
        }
      ]
    },
    {
      "cell_type": "code",
      "metadata": {
        "id": "2yVx8Ar4EyDc",
        "colab_type": "code",
        "colab": {
          "base_uri": "https://localhost:8080/",
          "height": 34
        },
        "outputId": "a948d5dc-edae-4927-f624-5015ba7004a0"
      },
      "source": [
        "ls\n"
      ],
      "execution_count": 5,
      "outputs": [
        {
          "output_type": "stream",
          "text": [
            "\u001b[0m\u001b[01;34mdata\u001b[0m/  HelloGithub.ipynb  LICENSE  \u001b[01;34mmatrix_one\u001b[0m/  README.md\n"
          ],
          "name": "stdout"
        }
      ]
    },
    {
      "cell_type": "code",
      "metadata": {
        "id": "6-9axIOkFQFe",
        "colab_type": "code",
        "colab": {
          "base_uri": "https://localhost:8080/",
          "height": 34
        },
        "outputId": "f3c6f075-9fd2-41b5-9755-89a3bd85a6b5"
      },
      "source": [
        "ls data"
      ],
      "execution_count": 6,
      "outputs": [
        {
          "output_type": "stream",
          "text": [
            "men_shoes.csv\n"
          ],
          "name": "stdout"
        }
      ]
    },
    {
      "cell_type": "code",
      "metadata": {
        "id": "jaTL8KUXFShk",
        "colab_type": "code",
        "colab": {
          "base_uri": "https://localhost:8080/",
          "height": 34
        },
        "outputId": "21453cfd-d525-4083-91e3-97b76af3e85d"
      },
      "source": [
        "df=pd.read_csv('data/men_shoes.csv', low_memory=False)\n",
        "df.shape"
      ],
      "execution_count": 7,
      "outputs": [
        {
          "output_type": "execute_result",
          "data": {
            "text/plain": [
              "(18280, 48)"
            ]
          },
          "metadata": {
            "tags": []
          },
          "execution_count": 7
        }
      ]
    },
    {
      "cell_type": "code",
      "metadata": {
        "id": "jstsuG3qF0ah",
        "colab_type": "code",
        "colab": {
          "base_uri": "https://localhost:8080/",
          "height": 221
        },
        "outputId": "9a8969e5-8647-4ac7-acd3-27c5787cafb0"
      },
      "source": [
        "df.columns"
      ],
      "execution_count": 8,
      "outputs": [
        {
          "output_type": "execute_result",
          "data": {
            "text/plain": [
              "Index(['id', 'asins', 'brand', 'categories', 'colors', 'count', 'dateadded',\n",
              "       'dateupdated', 'descriptions', 'dimension', 'ean', 'features',\n",
              "       'flavors', 'imageurls', 'isbn', 'keys', 'manufacturer',\n",
              "       'manufacturernumber', 'merchants', 'name', 'prices_amountmin',\n",
              "       'prices_amountmax', 'prices_availability', 'prices_color',\n",
              "       'prices_condition', 'prices_count', 'prices_currency',\n",
              "       'prices_dateadded', 'prices_dateseen', 'prices_flavor', 'prices_issale',\n",
              "       'prices_merchant', 'prices_offer', 'prices_returnpolicy',\n",
              "       'prices_shipping', 'prices_size', 'prices_source', 'prices_sourceurls',\n",
              "       'prices_warranty', 'quantities', 'reviews', 'sizes', 'skus',\n",
              "       'sourceurls', 'upc', 'vin', 'websiteids', 'weight'],\n",
              "      dtype='object')"
            ]
          },
          "metadata": {
            "tags": []
          },
          "execution_count": 8
        }
      ]
    },
    {
      "cell_type": "code",
      "metadata": {
        "id": "QuhkpDW1F8W9",
        "colab_type": "code",
        "colab": {}
      },
      "source": [
        "def run_model(feats, model = DecisionTreeRegressor(max_depth=5)):\n",
        "  X= df[feats].values\n",
        "  y=df['prices_amountmin'].values\n",
        "\n",
        "  # przeniesiony do wywołania  model= DecisionTreeRegressor(max_depth=5)\n",
        "\n",
        "  scores= cross_val_score(model, X, y, scoring='neg_mean_absolute_error')\n",
        "  return np.mean(scores), np.std(scores)"
      ],
      "execution_count": 0,
      "outputs": []
    },
    {
      "cell_type": "code",
      "metadata": {
        "id": "tfDGp7OLHCWE",
        "colab_type": "code",
        "colab": {
          "base_uri": "https://localhost:8080/",
          "height": 34
        },
        "outputId": "b3e944a5-661f-4664-848d-782d4b75d3be"
      },
      "source": [
        "df['brand_cat'] = df['brand'].factorize()[0]\n",
        "run_model(['brand_cat'])"
      ],
      "execution_count": 10,
      "outputs": [
        {
          "output_type": "execute_result",
          "data": {
            "text/plain": [
              "(-58.38655694633361, 4.223555478221712)"
            ]
          },
          "metadata": {
            "tags": []
          },
          "execution_count": 10
        }
      ]
    },
    {
      "cell_type": "code",
      "metadata": {
        "id": "yJsBBuuRHaVo",
        "colab_type": "code",
        "colab": {
          "base_uri": "https://localhost:8080/",
          "height": 34
        },
        "outputId": "3ea94fee-0dd5-47fc-8c7f-ffa3eb4d0dd1"
      },
      "source": [
        "model= RandomForestRegressor(max_depth=5, n_estimators=100, random_state=0)\n",
        "run_model(['brand_cat'],model)"
      ],
      "execution_count": 11,
      "outputs": [
        {
          "output_type": "execute_result",
          "data": {
            "text/plain": [
              "(-57.47223572384038, 4.328288468270897)"
            ]
          },
          "metadata": {
            "tags": []
          },
          "execution_count": 11
        }
      ]
    },
    {
      "cell_type": "code",
      "metadata": {
        "id": "h3tpVcl_ID6L",
        "colab_type": "code",
        "colab": {}
      },
      "source": [
        "# feature_engeenering"
      ],
      "execution_count": 0,
      "outputs": []
    },
    {
      "cell_type": "code",
      "metadata": {
        "id": "0oy-zzR_IYjU",
        "colab_type": "code",
        "colab": {
          "base_uri": "https://localhost:8080/",
          "height": 34
        },
        "outputId": "53772351-5afb-43a2-83bb-ac268895d527"
      },
      "source": [
        "df['brand_cat'] = df['brand'].map(lambda x: str(x).lower()).factorize()[0]\n",
        "run_model(['brand_cat'])"
      ],
      "execution_count": 13,
      "outputs": [
        {
          "output_type": "execute_result",
          "data": {
            "text/plain": [
              "(-58.133398968282776, 4.206122611474276)"
            ]
          },
          "metadata": {
            "tags": []
          },
          "execution_count": 13
        }
      ]
    },
    {
      "cell_type": "code",
      "metadata": {
        "colab_type": "code",
        "id": "a5DPuK9hJJ1Y",
        "colab": {
          "base_uri": "https://localhost:8080/",
          "height": 34
        },
        "outputId": "c00e2098-3cc3-4f13-d3f3-b55281b12af5"
      },
      "source": [
        "model= RandomForestRegressor(max_depth=5, n_estimators=100, random_state=0)\n",
        "run_model(['brand_cat'],model)"
      ],
      "execution_count": 14,
      "outputs": [
        {
          "output_type": "execute_result",
          "data": {
            "text/plain": [
              "(-57.31783843165656, 4.181246596160967)"
            ]
          },
          "metadata": {
            "tags": []
          },
          "execution_count": 14
        }
      ]
    },
    {
      "cell_type": "code",
      "metadata": {
        "id": "1jiT8yw7MESk",
        "colab_type": "code",
        "colab": {
          "base_uri": "https://localhost:8080/",
          "height": 139
        },
        "outputId": "5711e743-4e98-4918-b4d0-8ee2454d1cfc"
      },
      "source": [
        "df.features.head().values"
      ],
      "execution_count": 15,
      "outputs": [
        {
          "output_type": "execute_result",
          "data": {
            "text/plain": [
              "array(['[{\"key\":\"Gender\",\"value\":[\"Men\"]},{\"key\":\"Shoe Size\",\"value\":[\"M\"]},{\"key\":\"Shoe Category\",\"value\":[\"Men\\'s Shoes\"]},{\"key\":\"Color\",\"value\":[\"Multicolor\"]},{\"key\":\"Manufacturer Part Number\",\"value\":[\"8190-W-NAVY-7.5\"]},{\"key\":\"Brand\",\"value\":[\"Josmo\"]}]',\n",
              "       '[{\"key\":\"Gender\",\"value\":[\"Men\"]},{\"key\":\"Shoe Size\",\"value\":[\"M\"]},{\"key\":\"Shoe Category\",\"value\":[\"Men\\'s Shoes\"]},{\"key\":\"Color\",\"value\":[\"Multicolor\"]},{\"key\":\"Manufacturer Part Number\",\"value\":[\"8190-W-NAVY-7.5\"]},{\"key\":\"Brand\",\"value\":[\"Josmo\"]}]',\n",
              "       '[{\"key\":\"Gender\",\"value\":[\"Men\"]},{\"key\":\"Color\",\"value\":[\"Black\"]},{\"key\":\"Shipping Weight (in pounds)\",\"value\":[\"0.45\"]},{\"key\":\"Condition\",\"value\":[\"New\"]},{\"key\":\"Brand\",\"value\":[\"SERVUS BY HONEYWELL\"]},{\"key\":\"manufacturer_part_number\",\"value\":[\"ZSR101BLMLG\"]}]',\n",
              "       '[{\"key\":\"Gender\",\"value\":[\"Men\"]},{\"key\":\"Color\",\"value\":[\"Black\"]},{\"key\":\"Shipping Weight (in pounds)\",\"value\":[\"0.45\"]},{\"key\":\"Condition\",\"value\":[\"New\"]},{\"key\":\"Brand\",\"value\":[\"SERVUS BY HONEYWELL\"]},{\"key\":\"manufacturer_part_number\",\"value\":[\"ZSR101BLMLG\"]}]',\n",
              "       '[{\"key\":\"Gender\",\"value\":[\"Men\"]},{\"key\":\"Color\",\"value\":[\"Black\"]},{\"key\":\"Shipping Weight (in pounds)\",\"value\":[\"0.45\"]},{\"key\":\"Condition\",\"value\":[\"New\"]},{\"key\":\"Brand\",\"value\":[\"SERVUS BY HONEYWELL\"]},{\"key\":\"manufacturer_part_number\",\"value\":[\"ZSR101BLMLG\"]}]'],\n",
              "      dtype=object)"
            ]
          },
          "metadata": {
            "tags": []
          },
          "execution_count": 15
        }
      ]
    },
    {
      "cell_type": "code",
      "metadata": {
        "id": "ZGqKR6zsKJvq",
        "colab_type": "code",
        "colab": {
          "base_uri": "https://localhost:8080/",
          "height": 34
        },
        "outputId": "4a420964-fa9d-442a-fd29-15f89e3d2b73"
      },
      "source": [
        "#df.head()\n",
        "test={'key':'value'}\n",
        "test['key']\n",
        "\n",
        "str(test)\n"
      ],
      "execution_count": 16,
      "outputs": [
        {
          "output_type": "execute_result",
          "data": {
            "text/plain": [
              "\"{'key': 'value'}\""
            ]
          },
          "metadata": {
            "tags": []
          },
          "execution_count": 16
        }
      ]
    },
    {
      "cell_type": "code",
      "metadata": {
        "id": "7GKKgHGMKSTq",
        "colab_type": "code",
        "colab": {}
      },
      "source": [
        "def parse_features(x):\n",
        "  if str(x) == 'nan' : return []\n",
        "  return literal_eval(x.replace('\\\\\"', '\"'))\n",
        "\n",
        "df['features_parsed'] = df['features'].map(parse_features)"
      ],
      "execution_count": 0,
      "outputs": []
    },
    {
      "cell_type": "code",
      "metadata": {
        "id": "fiq8mg4dNnvD",
        "colab_type": "code",
        "colab": {
          "base_uri": "https://localhost:8080/",
          "height": 139
        },
        "outputId": "58d22fd8-0727-4ca3-d979-d3c47f23a34b"
      },
      "source": [
        "#df['features_parsed'].head()\n",
        "df['features_parsed'].head().values"
      ],
      "execution_count": 18,
      "outputs": [
        {
          "output_type": "execute_result",
          "data": {
            "text/plain": [
              "array([list([{'key': 'Gender', 'value': ['Men']}, {'key': 'Shoe Size', 'value': ['M']}, {'key': 'Shoe Category', 'value': [\"Men's Shoes\"]}, {'key': 'Color', 'value': ['Multicolor']}, {'key': 'Manufacturer Part Number', 'value': ['8190-W-NAVY-7.5']}, {'key': 'Brand', 'value': ['Josmo']}]),\n",
              "       list([{'key': 'Gender', 'value': ['Men']}, {'key': 'Shoe Size', 'value': ['M']}, {'key': 'Shoe Category', 'value': [\"Men's Shoes\"]}, {'key': 'Color', 'value': ['Multicolor']}, {'key': 'Manufacturer Part Number', 'value': ['8190-W-NAVY-7.5']}, {'key': 'Brand', 'value': ['Josmo']}]),\n",
              "       list([{'key': 'Gender', 'value': ['Men']}, {'key': 'Color', 'value': ['Black']}, {'key': 'Shipping Weight (in pounds)', 'value': ['0.45']}, {'key': 'Condition', 'value': ['New']}, {'key': 'Brand', 'value': ['SERVUS BY HONEYWELL']}, {'key': 'manufacturer_part_number', 'value': ['ZSR101BLMLG']}]),\n",
              "       list([{'key': 'Gender', 'value': ['Men']}, {'key': 'Color', 'value': ['Black']}, {'key': 'Shipping Weight (in pounds)', 'value': ['0.45']}, {'key': 'Condition', 'value': ['New']}, {'key': 'Brand', 'value': ['SERVUS BY HONEYWELL']}, {'key': 'manufacturer_part_number', 'value': ['ZSR101BLMLG']}]),\n",
              "       list([{'key': 'Gender', 'value': ['Men']}, {'key': 'Color', 'value': ['Black']}, {'key': 'Shipping Weight (in pounds)', 'value': ['0.45']}, {'key': 'Condition', 'value': ['New']}, {'key': 'Brand', 'value': ['SERVUS BY HONEYWELL']}, {'key': 'manufacturer_part_number', 'value': ['ZSR101BLMLG']}])],\n",
              "      dtype=object)"
            ]
          },
          "metadata": {
            "tags": []
          },
          "execution_count": 18
        }
      ]
    },
    {
      "cell_type": "code",
      "metadata": {
        "id": "F2yXYuQ5Nuz1",
        "colab_type": "code",
        "colab": {}
      },
      "source": [
        "def parse_features2(x):\n",
        "  output_dict = {}\n",
        "  if str(x) == 'nan' : return output_dict\n",
        "  features = literal_eval(x.replace('\\\\\"', '\"'))\n",
        "  for item in features:\n",
        "    key = item['key'].lower().strip()\n",
        "    value = item['value'][0].lower().strip()\n",
        "    \n",
        "    output_dict[key] = value \n",
        "\n",
        "  return output_dict  \n",
        "\n",
        "df['features_parsed'] = df['features'].map(parse_features2)"
      ],
      "execution_count": 0,
      "outputs": []
    },
    {
      "cell_type": "code",
      "metadata": {
        "id": "yrDUysNrQZpU",
        "colab_type": "code",
        "colab": {
          "base_uri": "https://localhost:8080/",
          "height": 139
        },
        "outputId": "cb8daa33-4345-4c8a-90d5-2f8165d51e57"
      },
      "source": [
        "df['features_parsed'].head().values"
      ],
      "execution_count": 20,
      "outputs": [
        {
          "output_type": "execute_result",
          "data": {
            "text/plain": [
              "array([{'gender': 'men', 'shoe size': 'm', 'shoe category': \"men's shoes\", 'color': 'multicolor', 'manufacturer part number': '8190-w-navy-7.5', 'brand': 'josmo'},\n",
              "       {'gender': 'men', 'shoe size': 'm', 'shoe category': \"men's shoes\", 'color': 'multicolor', 'manufacturer part number': '8190-w-navy-7.5', 'brand': 'josmo'},\n",
              "       {'gender': 'men', 'color': 'black', 'shipping weight (in pounds)': '0.45', 'condition': 'new', 'brand': 'servus by honeywell', 'manufacturer_part_number': 'zsr101blmlg'},\n",
              "       {'gender': 'men', 'color': 'black', 'shipping weight (in pounds)': '0.45', 'condition': 'new', 'brand': 'servus by honeywell', 'manufacturer_part_number': 'zsr101blmlg'},\n",
              "       {'gender': 'men', 'color': 'black', 'shipping weight (in pounds)': '0.45', 'condition': 'new', 'brand': 'servus by honeywell', 'manufacturer_part_number': 'zsr101blmlg'}],\n",
              "      dtype=object)"
            ]
          },
          "metadata": {
            "tags": []
          },
          "execution_count": 20
        }
      ]
    },
    {
      "cell_type": "code",
      "metadata": {
        "id": "Gj_2FosJQtBY",
        "colab_type": "code",
        "colab": {
          "base_uri": "https://localhost:8080/",
          "height": 34
        },
        "outputId": "4f447a50-95ff-4abc-fee6-a2020d93ead9"
      },
      "source": [
        "keys = set()\n",
        "\n",
        "df['features_parsed'].map(lambda x: keys.update(x.keys()))\n",
        "\n",
        "len(keys)"
      ],
      "execution_count": 21,
      "outputs": [
        {
          "output_type": "execute_result",
          "data": {
            "text/plain": [
              "476"
            ]
          },
          "metadata": {
            "tags": []
          },
          "execution_count": 21
        }
      ]
    },
    {
      "cell_type": "code",
      "metadata": {
        "id": "DGbK-4SiRn_9",
        "colab_type": "code",
        "colab": {
          "base_uri": "https://localhost:8080/",
          "height": 66,
          "referenced_widgets": [
            "43c826401e7d41bb8ed8d87c2b31c70a",
            "81dcd6777c3b4b38823fcbcee0661f1a",
            "251b487ad3464a94a121744cad2ba5e8",
            "75c7413b54fc427b82121ea7a1539778",
            "d402467cbcb840f1abcb09de3a63c9f2",
            "705b9d5fcdf448dcb2f9515c57c6019c",
            "6d32234fb99e44de9d82603f78784c1a",
            "8c4f1d0611114a0cb9c8dcd317f3e66b"
          ]
        },
        "outputId": "0396ccd1-2edf-4049-ae55-05884eba502c"
      },
      "source": [
        "def get_name_feat(key):\n",
        "  return 'feat_' + key\n",
        "  \n",
        "for key in tqdm_notebook(keys):\n",
        "  df[get_name_feat(key)] = df.features_parsed.map(lambda feats: feats[key] if key in feats else np.nan)"
      ],
      "execution_count": 22,
      "outputs": [
        {
          "output_type": "display_data",
          "data": {
            "application/vnd.jupyter.widget-view+json": {
              "model_id": "43c826401e7d41bb8ed8d87c2b31c70a",
              "version_minor": 0,
              "version_major": 2
            },
            "text/plain": [
              "HBox(children=(IntProgress(value=0, max=476), HTML(value='')))"
            ]
          },
          "metadata": {
            "tags": []
          }
        },
        {
          "output_type": "stream",
          "text": [
            "\n"
          ],
          "name": "stdout"
        }
      ]
    },
    {
      "cell_type": "code",
      "metadata": {
        "id": "sXqAEWOwTktt",
        "colab_type": "code",
        "colab": {
          "base_uri": "https://localhost:8080/",
          "height": 153
        },
        "outputId": "cc0002b0-0125-400f-a22f-34f9add42ebc"
      },
      "source": [
        "df.columns"
      ],
      "execution_count": 23,
      "outputs": [
        {
          "output_type": "execute_result",
          "data": {
            "text/plain": [
              "Index(['id', 'asins', 'brand', 'categories', 'colors', 'count', 'dateadded',\n",
              "       'dateupdated', 'descriptions', 'dimension',\n",
              "       ...\n",
              "       'feat_removable liner', 'feat_frame material', 'feat_материал',\n",
              "       'feat_compass', 'feat_number of compartments', 'feat_movement',\n",
              "       'feat_fabric care', 'feat_number of pieces', 'feat_waist size',\n",
              "       'feat_style number'],\n",
              "      dtype='object', length=526)"
            ]
          },
          "metadata": {
            "tags": []
          },
          "execution_count": 23
        }
      ]
    },
    {
      "cell_type": "code",
      "metadata": {
        "id": "iO2m_jrfT6DL",
        "colab_type": "code",
        "colab": {
          "base_uri": "https://localhost:8080/",
          "height": 34
        },
        "outputId": "d377f8b9-639b-4b35-bbee-d539d5b28a58"
      },
      "source": [
        "df[ df['feat_athlete'].isnull()].shape"
      ],
      "execution_count": 24,
      "outputs": [
        {
          "output_type": "execute_result",
          "data": {
            "text/plain": [
              "(18272, 526)"
            ]
          },
          "metadata": {
            "tags": []
          },
          "execution_count": 24
        }
      ]
    },
    {
      "cell_type": "code",
      "metadata": {
        "id": "ekifCRICUL2v",
        "colab_type": "code",
        "colab": {
          "base_uri": "https://localhost:8080/",
          "height": 34
        },
        "outputId": "6fdfe582-d372-4e79-a4ac-fa5a21c85ca0"
      },
      "source": [
        "df.shape[0]"
      ],
      "execution_count": 25,
      "outputs": [
        {
          "output_type": "execute_result",
          "data": {
            "text/plain": [
              "18280"
            ]
          },
          "metadata": {
            "tags": []
          },
          "execution_count": 25
        }
      ]
    },
    {
      "cell_type": "code",
      "metadata": {
        "id": "fBvaGEJkUTFe",
        "colab_type": "code",
        "colab": {
          "base_uri": "https://localhost:8080/",
          "height": 34
        },
        "outputId": "bd18117d-379c-438a-9653-b3198c4a1fb5"
      },
      "source": [
        "df[ False == df['feat_athlete'].isnull()].shape[0] / df.shape[0] * 100"
      ],
      "execution_count": 26,
      "outputs": [
        {
          "output_type": "execute_result",
          "data": {
            "text/plain": [
              "0.0437636761487965"
            ]
          },
          "metadata": {
            "tags": []
          },
          "execution_count": 26
        }
      ]
    },
    {
      "cell_type": "code",
      "metadata": {
        "id": "LA-nvXxTUrJm",
        "colab_type": "code",
        "colab": {}
      },
      "source": [
        "keys_stat = {}\n",
        "for key in keys:\n",
        "  keys_stat[key] = df[ False == df[get_name_feat(key)].isnull()].shape[0] / df.shape[0] * 100\n"
      ],
      "execution_count": 0,
      "outputs": []
    },
    {
      "cell_type": "code",
      "metadata": {
        "id": "3NLTKaT2Vf6t",
        "colab_type": "code",
        "colab": {}
      },
      "source": [
        "#keys_stat  opis: wyswietla zawartosc wszystkich elementów "
      ],
      "execution_count": 0,
      "outputs": []
    },
    {
      "cell_type": "code",
      "metadata": {
        "id": "NA9xKEzRViEN",
        "colab_type": "code",
        "colab": {
          "base_uri": "https://localhost:8080/",
          "height": 102
        },
        "outputId": "2df6ee4d-519b-4a1f-c7d5-0deab84a35df"
      },
      "source": [
        "{k:v for k,v in keys_stat.items() if v > 30}"
      ],
      "execution_count": 29,
      "outputs": [
        {
          "output_type": "execute_result",
          "data": {
            "text/plain": [
              "{'brand': 48.62691466083151,\n",
              " 'color': 47.784463894967175,\n",
              " 'gender': 50.17505470459519,\n",
              " 'manufacturer part number': 36.252735229759296,\n",
              " 'material': 34.9070021881838}"
            ]
          },
          "metadata": {
            "tags": []
          },
          "execution_count": 29
        }
      ]
    },
    {
      "cell_type": "code",
      "metadata": {
        "id": "O6izDeVnWLmU",
        "colab_type": "code",
        "colab": {}
      },
      "source": [
        "df['feat_brand_cat'] = df['feat_brand'].factorize()[0]\n",
        "df['feat_color_cat'] = df['feat_color'].factorize()[0]\n",
        "df['feat_gender_cat'] = df['feat_gender'].factorize()[0]\n",
        "df['feat_manufacturer part number_cat'] = df['feat_manufacturer part number'].factorize()[0]\n",
        "df['feat_material_cat'] = df['feat_material'].factorize()[0]\n",
        "\n",
        "\n",
        "df['feat_sport_cat'] = df['feat_sport'].factorize()[0]\n",
        "df['feat_style_cat'] = df['feat_style'].factorize()[0]\n",
        "\n",
        "for key in keys:\n",
        "  df[get_name_feat(key) + '_cat'] = df[get_name_feat(key)].factorize()[0]\n",
        "\n"
      ],
      "execution_count": 0,
      "outputs": []
    },
    {
      "cell_type": "code",
      "metadata": {
        "id": "HpcHiy_tNLRv",
        "colab_type": "code",
        "colab": {}
      },
      "source": [
        ""
      ],
      "execution_count": 0,
      "outputs": []
    },
    {
      "cell_type": "code",
      "metadata": {
        "id": "vtYvKw4yYODq",
        "colab_type": "code",
        "colab": {
          "base_uri": "https://localhost:8080/",
          "height": 34
        },
        "outputId": "cfffa95f-f5a6-4511-ccf2-835514c88ad0"
      },
      "source": [
        "df['brand'] = df['brand'].map(lambda x: str(x).lower())\n",
        "df[df.brand == df.feat_brand].shape"
      ],
      "execution_count": 31,
      "outputs": [
        {
          "output_type": "execute_result",
          "data": {
            "text/plain": [
              "(8846, 1002)"
            ]
          },
          "metadata": {
            "tags": []
          },
          "execution_count": 31
        }
      ]
    },
    {
      "cell_type": "code",
      "metadata": {
        "id": "bTRvtlfvYwpH",
        "colab_type": "code",
        "colab": {}
      },
      "source": [
        "feats = ['']"
      ],
      "execution_count": 0,
      "outputs": []
    },
    {
      "cell_type": "code",
      "metadata": {
        "id": "rFUhhkUQWy9d",
        "colab_type": "code",
        "colab": {
          "base_uri": "https://localhost:8080/",
          "height": 34
        },
        "outputId": "10d7f9c1-bbae-4645-a29c-b9f9723adb0c"
      },
      "source": [
        "model = RandomForestRegressor(max_depth=5,n_estimators=100)\n",
        "run_model(['brand_cat'],model)\n",
        "#run_model(['color_cat','feat_color_cat'],model)\n",
        "#run_model(['gender_cat','feat_gender_cat'],model)\n",
        "#run_model(['manufacturer part number_cat','feat_manufacturer part number_cat'],model)\n",
        "#run_model(['material_cat','feat_material_cat'],model)"
      ],
      "execution_count": 33,
      "outputs": [
        {
          "output_type": "execute_result",
          "data": {
            "text/plain": [
              "(-57.208509361302106, 4.16491713247222)"
            ]
          },
          "metadata": {
            "tags": []
          },
          "execution_count": 33
        }
      ]
    },
    {
      "cell_type": "code",
      "metadata": {
        "id": "wpY8zyHLOLl8",
        "colab_type": "code",
        "colab": {
          "base_uri": "https://localhost:8080/",
          "height": 1000
        },
        "outputId": "5c73cf04-d341-4b69-bb8f-45fa3a220873"
      },
      "source": [
        "feats_cat = [x for x  in df.columns if 'cat' in x]\n",
        "feats_cat"
      ],
      "execution_count": 34,
      "outputs": [
        {
          "output_type": "execute_result",
          "data": {
            "text/plain": [
              "['categories',\n",
              " 'brand_cat',\n",
              " 'feat_certifications and listings',\n",
              " 'feat_location - country',\n",
              " 'feat_catalog',\n",
              " 'feat_multi pack indicator',\n",
              " 'feat_location - city/state',\n",
              " 'feat_clothing category',\n",
              " 'feat_fabrication',\n",
              " 'feat_shoe category',\n",
              " 'feat_recommended location',\n",
              " 'feat_brand_cat',\n",
              " 'feat_color_cat',\n",
              " 'feat_gender_cat',\n",
              " 'feat_manufacturer part number_cat',\n",
              " 'feat_material_cat',\n",
              " 'feat_sport_cat',\n",
              " 'feat_style_cat',\n",
              " 'feat_lens socket width_cat',\n",
              " 'feat_clothing size type_cat',\n",
              " 'feat_resolution megapixels_cat',\n",
              " 'feat_has expiration_cat',\n",
              " 'feat_chain length_cat',\n",
              " 'feat_fits model_cat',\n",
              " 'feat_fits models_cat',\n",
              " 'feat_country////region of manufacture_cat',\n",
              " 'feat_theme_cat',\n",
              " 'feat_cm_cat',\n",
              " 'feat_band width_cat',\n",
              " 'feat_machine washable_cat',\n",
              " 'feat_hands_cat',\n",
              " 'feat_color/finish family_cat',\n",
              " 'feat_fabric type_cat',\n",
              " 'feat_part type_cat',\n",
              " 'feat_number of pockets_cat',\n",
              " 'feat_fabric material_cat',\n",
              " 'feat_label_cat',\n",
              " 'feat_case finish_cat',\n",
              " 'feat_elastic banded waist_cat',\n",
              " 'feat_polarized lenses_cat',\n",
              " 'feat_made in_cat',\n",
              " 'feat_product type_cat',\n",
              " 'feat_frame type_cat',\n",
              " 'feat_characteristics_cat',\n",
              " 'feat_bracelet style_cat',\n",
              " 'feat_is portable_cat',\n",
              " 'feat_fits most screen size_cat',\n",
              " 'feat_features_cat',\n",
              " 'feat_chronograph_cat',\n",
              " 'feat_reinforced knee_cat',\n",
              " 'feat_shoe height_cat',\n",
              " 'feat_fabric_cat',\n",
              " 'feat_profession_cat',\n",
              " 'feat_power reserve_cat',\n",
              " 'feat_model number_cat',\n",
              " 'feat_is wheeled_cat',\n",
              " 'feat_display technology_cat',\n",
              " 'feat_mechanic_cat',\n",
              " 'feat_fits over eyeglasses_cat',\n",
              " 'feat_use_cat',\n",
              " 'feat_front_cat',\n",
              " 'feat_protection_cat',\n",
              " 'feat_count_cat',\n",
              " 'feat_frame style_cat',\n",
              " 'feat_eye protection type_cat',\n",
              " 'feat_country/region of manufacture_cat',\n",
              " 'feat_reinforced pockets_cat',\n",
              " 'feat_is polarized_cat',\n",
              " 'feat_contains batteries_cat',\n",
              " 'feat_type_cat',\n",
              " 'feat_watch shape_cat',\n",
              " 'feat_item weight_cat',\n",
              " 'feat_fits brands_cat',\n",
              " 'feat_used with equipment type_cat',\n",
              " 'feat_fabric content_cat',\n",
              " 'feat_lens type_cat',\n",
              " 'feat_ring size_cat',\n",
              " 'feat_primary color_cat',\n",
              " 'feat_finish_cat',\n",
              " 'feat_style code_cat',\n",
              " 'feat_fishing_cat',\n",
              " 'feat_bridge width_cat',\n",
              " 'feat_shape_cat',\n",
              " 'feat_hat style_cat',\n",
              " 'feat_gemstone type_cat',\n",
              " 'feat_best sellers rank_cat',\n",
              " 'feat_country of origin assembly:_cat',\n",
              " 'feat_stock no._cat',\n",
              " 'feat_dimensions_cat',\n",
              " 'feat_occasion_cat',\n",
              " 'feat_is energy star-certified_cat',\n",
              " 'feat_is weather-resistant_cat',\n",
              " 'feat_band material_cat',\n",
              " 'feat_watch power source_cat',\n",
              " 'feat_auto shut-off_cat',\n",
              " 'feat_conflict_cat',\n",
              " 'feat_materials_cat',\n",
              " 'feat_mpn#_cat',\n",
              " 'feat_battery voltage_cat',\n",
              " 'feat_cleaning, care & maintenance_cat',\n",
              " 'feat_date first available at amazon.co.uk_cat',\n",
              " 'feat_waist_cat',\n",
              " 'feat_country of manufacturer_cat',\n",
              " 'feat_garment care_cat',\n",
              " 'feat_stability_cat',\n",
              " 'feat_frame shape_cat',\n",
              " 'feat_retail price_cat',\n",
              " 'feat_assembled in country of origin_cat',\n",
              " 'feat_metal type_cat',\n",
              " 'feat_box_cat',\n",
              " 'feat_batteries required_cat',\n",
              " 'feat_eye size:_cat',\n",
              " 'feat_polarised_cat',\n",
              " 'feat_global composite sports type_cat',\n",
              " 'feat_material detail-1_cat',\n",
              " 'feat_issued/ not-issued_cat',\n",
              " 'feat_necklace type_cat',\n",
              " 'feat_international shipping_cat',\n",
              " 'feat_bed size_cat',\n",
              " 'feat_front style_cat',\n",
              " 'feat_assembled product dimensions (l x w x h)_cat',\n",
              " 'feat_heel height_cat',\n",
              " 'feat_case type_cat',\n",
              " 'feat_shade_cat',\n",
              " 'feat_hunting_cat',\n",
              " 'feat_purpose_cat',\n",
              " 'feat_shoe size_cat',\n",
              " 'feat_lens tint_cat',\n",
              " 'feat_safety feature_cat',\n",
              " 'feat_power type_cat',\n",
              " 'feat_watch case shape_cat',\n",
              " 'feat_applicable_cat',\n",
              " 'feat_terrain_cat',\n",
              " 'feat_style name_cat',\n",
              " 'feat_case tone_cat',\n",
              " 'feat_lining material_cat',\n",
              " 'feat_polarized_cat',\n",
              " 'feat_fits styles_cat',\n",
              " 'feat_nike id_cat',\n",
              " 'feat_battery type_cat',\n",
              " 'feat_rise_cat',\n",
              " 'feat_case back_cat',\n",
              " 'feat_height_cat',\n",
              " 'feat_model_cat',\n",
              " 'feat_cushioning_cat',\n",
              " 'feat_lens color family_cat',\n",
              " 'feat_closure style_cat',\n",
              " 'feat_is lined_cat',\n",
              " 'feat_dial color_cat',\n",
              " 'feat_ul safety listing_cat',\n",
              " 'feat_packageweight_cat',\n",
              " 'feat_free item_cat',\n",
              " 'feat_target audience_cat',\n",
              " 'feat_pattern or design_cat',\n",
              " 'feat_parts_cat',\n",
              " 'feat_sku#_cat',\n",
              " 'feat_date first available_cat',\n",
              " 'feat_color mapping_cat',\n",
              " 'feat_footwear type_cat',\n",
              " 'feat_charge time (minutes)_cat',\n",
              " 'feat_country of origin_cat',\n",
              " 'feat_tactical_cat',\n",
              " 'feat_airport friendly_cat',\n",
              " 'feat_sports team_cat',\n",
              " 'feat_fastener type_cat',\n",
              " 'feat_date_cat',\n",
              " 'feat_leather :_cat',\n",
              " 'feat_certifications and listings_cat',\n",
              " 'feat_gold karat_cat',\n",
              " 'feat_euro size_cat',\n",
              " 'feat_closure_cat',\n",
              " 'feat_contained battery type_cat',\n",
              " 'feat_season_cat',\n",
              " 'feat_very popular bag now a days_cat',\n",
              " 'feat_insulated_cat',\n",
              " 'feat_batteries required?_cat',\n",
              " 'feat_atpv arc rating_cat',\n",
              " 'feat_flame resistant_cat',\n",
              " 'feat_sole_cat',\n",
              " 'feat_bezel_cat',\n",
              " 'feat_motion control_cat',\n",
              " 'feat_work shoes_cat',\n",
              " 'feat_shoe width_cat',\n",
              " 'feat_diamond clarity_cat',\n",
              " 'feat_insulation_cat',\n",
              " 'feat_rx-able_cat',\n",
              " 'feat_style #_cat',\n",
              " 'feat_resizable_cat',\n",
              " 'feat_mpn_cat',\n",
              " 'feat_case type:_cat',\n",
              " 'feat_origin of components_cat',\n",
              " 'feat_article_cat',\n",
              " 'feat_alarm_cat',\n",
              " 'feat_sock style_cat',\n",
              " 'feat_light transmission (vlt)_cat',\n",
              " 'feat_size_cat',\n",
              " 'feat_nickel free_cat',\n",
              " 'feat_weight_cat',\n",
              " 'feat_foot arch_cat',\n",
              " 'feat_batteries included?_cat',\n",
              " 'feat_ring style_cat',\n",
              " 'feat_stylenumber_cat',\n",
              " 'feat_inseam_cat',\n",
              " 'feat_wheel type_cat',\n",
              " 'feat_labor_cat',\n",
              " 'feat_pant style_cat',\n",
              " 'feat_quantity in set_cat',\n",
              " 'feat_design_cat',\n",
              " 'feat_construction_cat',\n",
              " 'feat_chain/necklace length (in.)_cat',\n",
              " 'feat_pronation_cat',\n",
              " 'feat_lens width_cat',\n",
              " 'feat_licensed_cat',\n",
              " 'feat_video game platform_cat',\n",
              " 'feat_wind resistant_cat',\n",
              " 'feat_size/dimensions_cat',\n",
              " 'feat_interior pockets_cat',\n",
              " 'feat_shoe closure_cat',\n",
              " 'feat_style:_cat',\n",
              " 'feat_case material_cat',\n",
              " 'feat_wheeled_cat',\n",
              " 'feat_bridge size:_cat',\n",
              " 'feat_what includes_cat',\n",
              " 'feat_variant group id_cat',\n",
              " 'feat_feature_cat',\n",
              " 'feat_attachment_cat',\n",
              " 'feat_number of heat settings_cat',\n",
              " 'feat_contains cubic zirconia_cat',\n",
              " 'feat_display_cat',\n",
              " 'feat_item color_cat',\n",
              " 'feat_polarized?_cat',\n",
              " 'feat_sleeve length_cat',\n",
              " 'feat_number of batteries included_cat',\n",
              " 'feat_location - country_cat',\n",
              " 'feat_model no._cat',\n",
              " 'feat_toe type_cat',\n",
              " 'feat_ean_cat',\n",
              " 'feat_light weight_cat',\n",
              " 'feat_shipping weight_cat',\n",
              " 'feat_material composition_cat',\n",
              " 'feat_boxed-product dimensions_cat',\n",
              " 'feat_age start_cat',\n",
              " 'feat_isbn_cat',\n",
              " 'feat_shoe fastening type_cat',\n",
              " 'feat_wash_cat',\n",
              " 'feat_arm_cat',\n",
              " 'feat_instrument_cat',\n",
              " 'feat_subdial_cat',\n",
              " 'feat_country of manufacture_cat',\n",
              " 'feat_age_cat',\n",
              " 'feat_measurements:_cat',\n",
              " 'feat_country of origin components:_cat',\n",
              " 'feat_color family_cat',\n",
              " 'feat_sku number_cat',\n",
              " 'feat_athlete_cat',\n",
              " 'feat_item style_cat',\n",
              " 'feat_szie_cat',\n",
              " 'feat_material type_cat',\n",
              " 'feat_primary shelf id_cat',\n",
              " 'feat_suitable for_cat',\n",
              " 'feat_guaranteed authentic_cat',\n",
              " 'feat_manufacturer_part_number_cat',\n",
              " 'feat_hairstyle_cat',\n",
              " 'feat_lining_cat',\n",
              " 'feat_thick, warm, cozy_cat',\n",
              " 'feat_case diameter_cat',\n",
              " 'feat_year_cat',\n",
              " 'feat_watch band material_cat',\n",
              " 'feat_antiscratch lens coating_cat',\n",
              " 'feat_fabric care instructions_cat',\n",
              " 'feat_seller inventory number_cat',\n",
              " 'feat_general warranty_cat',\n",
              " 'feat_product #_cat',\n",
              " 'feat_pocket_cat',\n",
              " 'feat_weather-resistant_cat',\n",
              " 'feat_vendor description_cat',\n",
              " 'feat_boot height_cat',\n",
              " 'feat_release_cat',\n",
              " 'feat_fit to_cat',\n",
              " 'feat_golf shoe type_cat',\n",
              " 'feat_fuel type_cat',\n",
              " 'feat_lens color_cat',\n",
              " 'feat_outer material_cat',\n",
              " 'feat_upper material_cat',\n",
              " 'feat_pattern_cat',\n",
              " 'feat_has paper wood_cat',\n",
              " 'feat_band length (in.)_cat',\n",
              " 'feat_weather resistant_cat',\n",
              " 'feat_sku_cat',\n",
              " 'feat_crystal_cat',\n",
              " 'feat_dial markers_cat',\n",
              " 'feat_lens technology_cat',\n",
              " 'feat_manufacturer number_cat',\n",
              " 'feat_msrp_cat',\n",
              " 'feat_animal type_cat',\n",
              " 'feat_assembled product weight_cat',\n",
              " 'feat_item character_cat',\n",
              " 'feat_hood_cat',\n",
              " 'feat_enhanced visibility (reflective)_cat',\n",
              " 'feat_handbag style_cat',\n",
              " 'feat_has mercury_cat',\n",
              " 'feat_comfort technology_cat',\n",
              " 'feat_width_cat',\n",
              " 'feat_full product manual_cat',\n",
              " 'feat_frame color_cat',\n",
              " 'feat_fit_cat',\n",
              " 'feat_adjustable_cat',\n",
              " 'feat_looks best on these face shapes:_cat',\n",
              " 'feat_walmart no._cat',\n",
              " 'feat_catalog_cat',\n",
              " 'feat_country of origin - assembly_cat',\n",
              " 'feat_resolution_cat',\n",
              " 'feat_capacity_cat',\n",
              " 'feat_navy blue_cat',\n",
              " 'feat_number of items_cat',\n",
              " 'feat_is dark sky-compliant_cat',\n",
              " 'feat_uv rating_cat',\n",
              " 'feat_vehicle type_cat',\n",
              " 'feat_age segment_cat',\n",
              " 'feat_colour code_cat',\n",
              " 'feat_part number_cat',\n",
              " 'feat_kids backpacks_cat',\n",
              " 'feat_heart rate monitor_cat',\n",
              " 'feat_domestic shipping_cat',\n",
              " 'feat_band length_cat',\n",
              " 'feat_neckline_cat',\n",
              " 'feat_has adaptive lenses_cat',\n",
              " 'feat_product dimensions_cat',\n",
              " 'feat_fit:_cat',\n",
              " 'feat_package_cat',\n",
              " 'feat_includes_cat',\n",
              " 'feat_place of origin_cat',\n",
              " 'feat_is waterproof_cat',\n",
              " 'feat_bridge/temple size:_cat',\n",
              " 'feat_combined shipping_cat',\n",
              " 'feat_number of wheels_cat',\n",
              " 'feat_bridge_cat',\n",
              " 'feat_is recyclable_cat',\n",
              " 'feat_fine or fashion_cat',\n",
              " 'feat_stone type_cat',\n",
              " 'feat_hardsided or softsided_cat',\n",
              " 'feat_accessory type_cat',\n",
              " 'feat_picture_cat',\n",
              " 'feat_leg_cat',\n",
              " 'feat_product in inches (l x w x h)_cat',\n",
              " 'feat_age range_cat',\n",
              " 'feat_length_cat',\n",
              " 'feat_multi pack indicator_cat',\n",
              " 'feat_colour_cat',\n",
              " 'feat_sock size_cat',\n",
              " 'feat_clothing product type_cat',\n",
              " 'feat_diamond color_cat',\n",
              " 'feat_band manufacturer_cat',\n",
              " 'feat_hammer loop_cat',\n",
              " 'feat_leather grade_cat',\n",
              " 'feat_jacket length_cat',\n",
              " 'feat_safety apparel product type_cat',\n",
              " 'feat_temple length_cat',\n",
              " 'feat_transactionid_cat',\n",
              " 'feat_frame depth_cat',\n",
              " 'feat_band color_cat',\n",
              " 'feat_casual & dress shoe style_cat',\n",
              " 'feat_productgroup_cat',\n",
              " 'feat_location - city/state_cat',\n",
              " 'feat_condition_cat',\n",
              " 'feat_mirrored_cat',\n",
              " 'feat_sports league_cat',\n",
              " 'feat_temple size:_cat',\n",
              " 'feat_product id_cat',\n",
              " 'feat_charger included_cat',\n",
              " 'feat_eyewear frame style_cat',\n",
              " 'feat_water resistant_cat',\n",
              " 'feat_international shipping?_cat',\n",
              " 'feat_item spec attr - style (ebay)_cat',\n",
              " 'feat_authenticity_cat',\n",
              " 'feat_disclosures_cat',\n",
              " 'feat_shirt size_cat',\n",
              " 'feat_lined_cat',\n",
              " 'feat_audience_cat',\n",
              " 'feat_gps_cat',\n",
              " 'feat_leg opening:_cat',\n",
              " 'feat_frame material:_cat',\n",
              " 'feat_chest_cat',\n",
              " 'feat_����������������_cat',\n",
              " 'feat_removable hood_cat',\n",
              " 'feat_case thickness_cat',\n",
              " 'feat_character_cat',\n",
              " 'feat_age gender group_cat',\n",
              " 'feat_item package quantity_cat',\n",
              " 'feat_era_cat',\n",
              " 'feat_shipping weight (in pounds)_cat',\n",
              " 'feat_spikes type_cat',\n",
              " 'feat_is water-resistant_cat',\n",
              " 'feat_amazonbestsellersrank_cat',\n",
              " 'feat_special features_cat',\n",
              " 'feat_clothing category_cat',\n",
              " 'feat_nike product #_cat',\n",
              " 'feat_dial material_cat',\n",
              " 'feat_autographed_cat',\n",
              " 'feat_metal stamp_cat',\n",
              " 'feat_technician_cat',\n",
              " 'feat_hooded_cat',\n",
              " 'feat_clasp type_cat',\n",
              " 'feat_inv_cat',\n",
              " 'feat_designer_cat',\n",
              " 'feat_sleeve style_cat',\n",
              " 'feat_lens material_cat',\n",
              " 'feat_product name_cat',\n",
              " 'feat_protects against_cat',\n",
              " 'feat_waterproof_cat',\n",
              " 'feat_item type_cat',\n",
              " 'feat_lens material:_cat',\n",
              " 'feat_chain included_cat',\n",
              " 'feat_compatible devices_cat',\n",
              " 'feat_adidas_cat',\n",
              " 'feat_main colour_cat',\n",
              " 'feat_manufacturer_cat',\n",
              " 'feat_series name_cat',\n",
              " 'feat_to fit_cat',\n",
              " 'feat_item weight unit of measure_cat',\n",
              " 'feat_is orthopedic_cat',\n",
              " 'feat_diameter_cat',\n",
              " 'feat_name_cat',\n",
              " 'feat_carats_cat',\n",
              " 'feat_sub type_cat',\n",
              " 'feat_smart watch_cat',\n",
              " 'feat_country/ organization_cat',\n",
              " 'feat_country//region of manufacture_cat',\n",
              " 'feat_manufacturer sku_cat',\n",
              " 'feat_country of origin - components_cat',\n",
              " 'feat_clothing type_cat',\n",
              " 'feat_type 2_cat',\n",
              " 'feat_fastener_cat',\n",
              " 'feat_expandable_cat',\n",
              " 'feat_fabrication_cat',\n",
              " 'feat_digital camera_cat',\n",
              " 'feat_heat zones_cat',\n",
              " 'feat_safety features_cat',\n",
              " 'feat_impact resistant_cat',\n",
              " 'feat_shoe category_cat',\n",
              " 'feat_type of sole_cat',\n",
              " 'feat_year made_cat',\n",
              " 'feat_uv protection_cat',\n",
              " 'feat_face shape_cat',\n",
              " 'feat_recommended use_cat',\n",
              " 'feat_designed for_cat',\n",
              " 'feat_item width_cat',\n",
              " 'feat_band type_cat',\n",
              " 'feat_100% adidas authentic_cat',\n",
              " 'feat_chest size_cat',\n",
              " 'feat_water-resistant_cat',\n",
              " 'feat_overall material_cat',\n",
              " 'feat_bag size range_cat',\n",
              " 'feat_lens_cat',\n",
              " 'feat_jewelry setting_cat',\n",
              " 'feat_clothing size_cat',\n",
              " 'feat_watch style_cat',\n",
              " 'feat_main color_cat',\n",
              " 'feat_features & fastening_cat',\n",
              " 'feat_date first available at amazon.ca_cat',\n",
              " 'feat_casing_cat',\n",
              " 'feat_sub style_cat',\n",
              " 'feat_recommended location_cat',\n",
              " 'feat_military style_cat',\n",
              " 'feat_high visibility (ansi compliant)_cat',\n",
              " 'feat_net weight_cat',\n",
              " 'feat_sizearm_cat',\n",
              " 'feat_auto_cat',\n",
              " 'feat_crown_cat',\n",
              " 'feat_black_cat',\n",
              " 'feat_metal color_cat',\n",
              " 'feat_genre_cat',\n",
              " 'feat_sizebridge_cat',\n",
              " 'feat_age end_cat',\n",
              " 'feat_age group_cat',\n",
              " 'feat_shipping to usa_cat',\n",
              " 'feat_ground_cat',\n",
              " 'feat_removable liner_cat',\n",
              " 'feat_frame material_cat',\n",
              " 'feat_материал_cat',\n",
              " 'feat_compass_cat',\n",
              " 'feat_number of compartments_cat',\n",
              " 'feat_movement_cat',\n",
              " 'feat_fabric care_cat',\n",
              " 'feat_number of pieces_cat',\n",
              " 'feat_waist size_cat',\n",
              " 'feat_style number_cat']"
            ]
          },
          "metadata": {
            "tags": []
          },
          "execution_count": 34
        }
      ]
    },
    {
      "cell_type": "code",
      "metadata": {
        "id": "xj1WuVEQXz_3",
        "colab_type": "code",
        "colab": {
          "base_uri": "https://localhost:8080/",
          "height": 34
        },
        "outputId": "106e6505-9613-4e38-c699-2dcdfb4e52a0"
      },
      "source": [
        "feats = ['brand_cat','feat_metal type_cat','feat_brand_cat', 'feat_style_cat','feat_gender_cat','feat_material_cat']\n",
        "#feats += feats_cat\n",
        "#feats =list(set(feats))\n",
        "\n",
        "model = RandomForestRegressor(max_depth=5,n_estimators=100)\n",
        "run_model(feats,model)"
      ],
      "execution_count": 48,
      "outputs": [
        {
          "output_type": "execute_result",
          "data": {
            "text/plain": [
              "(-57.139411131815294, 4.144655332549908)"
            ]
          },
          "metadata": {
            "tags": []
          },
          "execution_count": 48
        }
      ]
    },
    {
      "cell_type": "code",
      "metadata": {
        "id": "WMAXtOe8a29J",
        "colab_type": "code",
        "colab": {
          "base_uri": "https://localhost:8080/",
          "height": 136
        },
        "outputId": "52c52e9e-23cf-453b-ed9b-0b614550f0b1"
      },
      "source": [
        "X = df[feats].values\n",
        "y = df['prices_amountmin'].values\n",
        "m = RandomForestRegressor(max_depth=5, n_estimators=100,random_state=0) \n",
        "m.fit(X,y)\n",
        "\n",
        "perm = PermutationImportance(m, random_state=1).fit(X,y);\n",
        "eli5.show_weights(perm, feature_names=feats)\n"
      ],
      "execution_count": 49,
      "outputs": [
        {
          "output_type": "execute_result",
          "data": {
            "text/html": [
              "\n",
              "    <style>\n",
              "    table.eli5-weights tr:hover {\n",
              "        filter: brightness(85%);\n",
              "    }\n",
              "</style>\n",
              "\n",
              "\n",
              "\n",
              "    \n",
              "\n",
              "    \n",
              "\n",
              "    \n",
              "\n",
              "    \n",
              "\n",
              "    \n",
              "\n",
              "    \n",
              "\n",
              "\n",
              "    \n",
              "\n",
              "    \n",
              "\n",
              "    \n",
              "\n",
              "    \n",
              "\n",
              "    \n",
              "\n",
              "    \n",
              "\n",
              "\n",
              "    \n",
              "\n",
              "    \n",
              "\n",
              "    \n",
              "\n",
              "    \n",
              "\n",
              "    \n",
              "        <table class=\"eli5-weights eli5-feature-importances\" style=\"border-collapse: collapse; border: none; margin-top: 0em; table-layout: auto;\">\n",
              "    <thead>\n",
              "    <tr style=\"border: none;\">\n",
              "        <th style=\"padding: 0 1em 0 0.5em; text-align: right; border: none;\">Weight</th>\n",
              "        <th style=\"padding: 0 0.5em 0 0.5em; text-align: left; border: none;\">Feature</th>\n",
              "    </tr>\n",
              "    </thead>\n",
              "    <tbody>\n",
              "    \n",
              "        <tr style=\"background-color: hsl(120, 100.00%, 80.00%); border: none;\">\n",
              "            <td style=\"padding: 0 1em 0 0.5em; text-align: right; border: none;\">\n",
              "                0.2572\n",
              "                \n",
              "                    &plusmn; 0.0104\n",
              "                \n",
              "            </td>\n",
              "            <td style=\"padding: 0 0.5em 0 0.5em; text-align: left; border: none;\">\n",
              "                brand_cat\n",
              "            </td>\n",
              "        </tr>\n",
              "    \n",
              "        <tr style=\"background-color: hsl(120, 100.00%, 89.42%); border: none;\">\n",
              "            <td style=\"padding: 0 1em 0 0.5em; text-align: right; border: none;\">\n",
              "                0.1036\n",
              "                \n",
              "                    &plusmn; 0.0103\n",
              "                \n",
              "            </td>\n",
              "            <td style=\"padding: 0 0.5em 0 0.5em; text-align: left; border: none;\">\n",
              "                feat_material_cat\n",
              "            </td>\n",
              "        </tr>\n",
              "    \n",
              "        <tr style=\"background-color: hsl(120, 100.00%, 94.44%); border: none;\">\n",
              "            <td style=\"padding: 0 1em 0 0.5em; text-align: right; border: none;\">\n",
              "                0.0413\n",
              "                \n",
              "                    &plusmn; 0.0041\n",
              "                \n",
              "            </td>\n",
              "            <td style=\"padding: 0 0.5em 0 0.5em; text-align: left; border: none;\">\n",
              "                feat_gender_cat\n",
              "            </td>\n",
              "        </tr>\n",
              "    \n",
              "        <tr style=\"background-color: hsl(120, 100.00%, 96.92%); border: none;\">\n",
              "            <td style=\"padding: 0 1em 0 0.5em; text-align: right; border: none;\">\n",
              "                0.0178\n",
              "                \n",
              "                    &plusmn; 0.0017\n",
              "                \n",
              "            </td>\n",
              "            <td style=\"padding: 0 0.5em 0 0.5em; text-align: left; border: none;\">\n",
              "                feat_brand_cat\n",
              "            </td>\n",
              "        </tr>\n",
              "    \n",
              "        <tr style=\"background-color: hsl(120, 100.00%, 97.99%); border: none;\">\n",
              "            <td style=\"padding: 0 1em 0 0.5em; text-align: right; border: none;\">\n",
              "                0.0097\n",
              "                \n",
              "                    &plusmn; 0.0009\n",
              "                \n",
              "            </td>\n",
              "            <td style=\"padding: 0 0.5em 0 0.5em; text-align: left; border: none;\">\n",
              "                feat_metal type_cat\n",
              "            </td>\n",
              "        </tr>\n",
              "    \n",
              "        <tr style=\"background-color: hsl(120, 100.00%, 98.67%); border: none;\">\n",
              "            <td style=\"padding: 0 1em 0 0.5em; text-align: right; border: none;\">\n",
              "                0.0053\n",
              "                \n",
              "                    &plusmn; 0.0011\n",
              "                \n",
              "            </td>\n",
              "            <td style=\"padding: 0 0.5em 0 0.5em; text-align: left; border: none;\">\n",
              "                feat_style_cat\n",
              "            </td>\n",
              "        </tr>\n",
              "    \n",
              "    \n",
              "    </tbody>\n",
              "</table>\n",
              "    \n",
              "\n",
              "    \n",
              "\n",
              "\n",
              "    \n",
              "\n",
              "    \n",
              "\n",
              "    \n",
              "\n",
              "    \n",
              "\n",
              "    \n",
              "\n",
              "    \n",
              "\n",
              "\n",
              "\n"
            ],
            "text/plain": [
              "<IPython.core.display.HTML object>"
            ]
          },
          "metadata": {
            "tags": []
          },
          "execution_count": 49
        }
      ]
    },
    {
      "cell_type": "code",
      "metadata": {
        "id": "5raqm2qlclqa",
        "colab_type": "code",
        "colab": {
          "base_uri": "https://localhost:8080/",
          "height": 139
        },
        "outputId": "d182768a-c49f-46e4-cb46-877979ca2060"
      },
      "source": [
        "df[ df['brand'] == 'nike'].features_parsed.sample(5).values"
      ],
      "execution_count": 41,
      "outputs": [
        {
          "output_type": "execute_result",
          "data": {
            "text/plain": [
              "array([{'condition': 'new with box', 'type': 'cleats'},\n",
              "       {'style': 'basketball shoes', 'pattern': 'solid', 'country/region of manufacture': 'china', 'condition': 'new with box'},\n",
              "       {'sport': 'soccer', 'type': 'cleats'},\n",
              "       {'season': 'all-season', 'material': 'canvas', 'gender': 'men', 'shoe size': '10', 'size': '10', 'color': 'blue', 'model': '685150 447', 'manufacturer part number': '685150 447', 'brand': 'nike', 'age group': 'adult'},\n",
              "       {'style': 'hoodie', 'material': 'polyester', 'sleeve length': 'long sleeve', 'condition': 'new with tags'}],\n",
              "      dtype=object)"
            ]
          },
          "metadata": {
            "tags": []
          },
          "execution_count": 41
        }
      ]
    },
    {
      "cell_type": "code",
      "metadata": {
        "id": "0G8rVI4hdV8d",
        "colab_type": "code",
        "colab": {}
      },
      "source": [
        ""
      ],
      "execution_count": 0,
      "outputs": []
    }
  ]
}